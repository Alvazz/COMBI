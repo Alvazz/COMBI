{
 "cells": [
  {
   "cell_type": "code",
   "execution_count": 3,
   "metadata": {
    "collapsed": false
   },
   "outputs": [
    {
     "data": {
      "text/html": [
       "<div id=\"interact-js-shim\">\n",
       "    <script charset=\"utf-8\">\n",
       "(function (IPython, $, _, MathJax) {\n",
       "    $.event.special.destroyed = {\n",
       "\tremove: function(o) {\n",
       "\t    if (o.handler) {\n",
       "\t\to.handler.apply(this, arguments)\n",
       "\t    }\n",
       "\t}\n",
       "    }\n",
       "\n",
       "    var OutputArea = IPython.version >= \"4.0.0\" ? require(\"notebook/js/outputarea\").OutputArea : IPython.OutputArea;\n",
       "\n",
       "    var redrawValue = function (container, type, val) {\n",
       "\tvar selector = $(\"<div/>\");\n",
       "\tvar oa = new OutputArea(_.extend(selector, {\n",
       "\t    selector: selector,\n",
       "\t    prompt_area: true,\n",
       "\t    events: IPython.events,\n",
       "\t    keyboard_manager: IPython.keyboard_manager\n",
       "\t})); // Hack to work with IPython 2.1.0\n",
       "\n",
       "\tswitch (type) {\n",
       "\tcase \"image/png\":\n",
       "            var _src = 'data:' + type + ';base64,' + val;\n",
       "\t    $(container).find(\"img\").attr('src', _src);\n",
       "\t    break;\n",
       "\tdefault:\n",
       "\t    var toinsert = OutputArea.append_map[type].apply(\n",
       "\t\toa, [val, {}, selector]\n",
       "\t    );\n",
       "\t    $(container).empty().append(toinsert.contents());\n",
       "\t    selector.remove();\n",
       "\t}\n",
       "\tif (type === \"text/latex\" && MathJax) {\n",
       "\t    MathJax.Hub.Queue([\"Typeset\", MathJax.Hub, toinsert.get(0)]);\n",
       "\t}\n",
       "    }\n",
       "\n",
       "\n",
       "    $(document).ready(function() {\n",
       "\tfunction initComm(evt, data) {\n",
       "\t    var comm_manager = data.kernel.comm_manager;\n",
       "        //_.extend(comm_manager.targets, require(\"widgets/js/widget\"))\n",
       "\t    comm_manager.register_target(\"Signal\", function (comm) {\n",
       "            comm.on_msg(function (msg) {\n",
       "                //Widgets.log(\"message received\", msg);\n",
       "                var val = msg.content.data.value;\n",
       "                $(\".signal-\" + comm.comm_id).each(function() {\n",
       "                var type = $(this).data(\"type\");\n",
       "                if (val[type]) {\n",
       "                    redrawValue(this, type, val[type], type);\n",
       "                }\n",
       "                });\n",
       "                delete val;\n",
       "                delete msg.content.data.value;\n",
       "            });\n",
       "\t    });\n",
       "\n",
       "\t    // coordingate with Comm and redraw Signals\n",
       "\t    // XXX: Test using Reactive here to improve performance\n",
       "\t    $([IPython.events]).on(\n",
       "\t\t'output_appended.OutputArea', function (event, type, value, md, toinsert) {\n",
       "\t\t    if (md && md.reactive) {\n",
       "                // console.log(md.comm_id);\n",
       "                toinsert.addClass(\"signal-\" + md.comm_id);\n",
       "                toinsert.data(\"type\", type);\n",
       "                // Signal back indicating the mimetype required\n",
       "                var comm_manager = IPython.notebook.kernel.comm_manager;\n",
       "                var comm = comm_manager.comms[md.comm_id];\n",
       "                comm.then(function (c) {\n",
       "                    c.send({action: \"subscribe_mime\",\n",
       "                       mime: type});\n",
       "                    toinsert.bind(\"destroyed\", function() {\n",
       "                        c.send({action: \"unsubscribe_mime\",\n",
       "                               mime: type});\n",
       "                    });\n",
       "                })\n",
       "\t\t    }\n",
       "\t    });\n",
       "\t}\n",
       "\n",
       "\ttry {\n",
       "\t    // try to initialize right away. otherwise, wait on the status_started event.\n",
       "\t    initComm(undefined, IPython.notebook);\n",
       "\t} catch (e) {\n",
       "\t    $([IPython.events]).on('kernel_created.Kernel kernel_created.Session', initComm);\n",
       "\t}\n",
       "    });\n",
       "})(IPython, jQuery, _, MathJax);\n",
       "</script>\n",
       "    <script>\n",
       "        window.interactLoadedFlag = true\n",
       "       $(\"#interact-js-shim\").bind(\"destroyed\", function () {\n",
       "           if (window.interactLoadedFlag) {\n",
       "               console.warn(\"JavaScript required by Interact will be removed if you remove this cell or run using Interact more than once.\")\n",
       "           }\n",
       "       })\n",
       "       $([IPython.events]).on(\"kernel_starting.Kernel kernel_restarting.Kernel\", function () { window.interactLoadedFlag = false })\n",
       "   </script>\n",
       "</div>"
      ]
     },
     "metadata": {},
     "output_type": "display_data"
    },
    {
     "data": {
      "text/html": [],
      "text/plain": [
       "Interact.Slider{Float64}(Signal{Float64}(1.0, nactions=0),\"m\",1.0,0.1:0.1:2.0,\".3f\",true)"
      ]
     },
     "metadata": {},
     "output_type": "display_data"
    },
    {
     "data": {
      "text/html": [],
      "text/plain": [
       "Interact.Slider{Int64}(Signal{Int64}(175, nactions=0),\"n_cs\",175,50:1:300,\"d\",true)"
      ]
     },
     "metadata": {},
     "output_type": "display_data"
    },
    {
     "data": {
      "text/html": [],
      "text/plain": [
       "Interact.Slider{Int64}(Signal{Int64}(10, nactions=0),\"dn_fs\",10,1:1:20,\"d\",true)"
      ]
     },
     "metadata": {},
     "output_type": "display_data"
    },
    {
     "data": {
      "text/html": [],
      "text/plain": [
       "Interact.Slider{Int64}(Signal{Int64}(10, nactions=0),\"dn_ig\",10,1:1:20,\"d\",true)"
      ]
     },
     "metadata": {},
     "output_type": "display_data"
    },
    {
     "data": {
      "text/html": [],
      "text/plain": [
       "Interact.Slider{Int64}(Signal{Int64}(130, nactions=0),\"dn_sg\",130,1:1:260,\"d\",true)"
      ]
     },
     "metadata": {},
     "output_type": "display_data"
    },
    {
     "ename": "LoadError",
     "evalue": "LoadError: MethodError: no method matching sin(::Array{FloatRange{Float64},1})\nClosest candidates are:\n  sin(!Matched::BigFloat) at mpfr.jl:610\n  sin(!Matched::Complex{Float16}) at math.jl:480\n  sin(!Matched::Float16) at math.jl:479\n  ...\nwhile loading In[3], in expression starting on line 20",
     "output_type": "error",
     "traceback": [
      "LoadError: MethodError: no method matching sin(::Array{FloatRange{Float64},1})\nClosest candidates are:\n  sin(!Matched::BigFloat) at mpfr.jl:610\n  sin(!Matched::Complex{Float16}) at math.jl:480\n  sin(!Matched::Float16) at math.jl:479\n  ...\nwhile loading In[3], in expression starting on line 20",
      "",
      " in pyerr_check at /home/dong/.julia/v0.5/PyCall/src/exception.jl:56 [inlined]",
      " in pyerr_check at /home/dong/.julia/v0.5/PyCall/src/exception.jl:61 [inlined]",
      " in macro expansion at /home/dong/.julia/v0.5/PyCall/src/exception.jl:81 [inlined]",
      " in #_pycall#62(::Array{Any,1}, ::Function, ::PyCall.PyObject, ::PyCall.PyObject, ::Vararg{PyCall.PyObject,N}) at /home/dong/.julia/v0.5/PyCall/src/PyCall.jl:546",
      " in _pycall(::PyCall.PyObject, ::PyCall.PyObject, ::Vararg{PyCall.PyObject,N}) at /home/dong/.julia/v0.5/PyCall/src/PyCall.jl:534",
      " in #pycall#66(::Array{Any,1}, ::Function, ::PyCall.PyObject, ::Type{PyCall.PyAny}, ::PyCall.PyObject, ::Vararg{PyCall.PyObject,N}) at /home/dong/.julia/v0.5/PyCall/src/PyCall.jl:568",
      " in pycall(::PyCall.PyObject, ::Type{PyCall.PyAny}, ::PyCall.PyObject, ::Vararg{PyCall.PyObject,N}) at /home/dong/.julia/v0.5/PyCall/src/PyCall.jl:568",
      " in #sca#98(::Array{Any,1}, ::Function, ::PyCall.PyObject, ::Vararg{PyCall.PyObject,N}) at /home/dong/.julia/v0.5/PyPlot/src/PyPlot.jl:399",
      " in #withfig#205(::Bool, ::Function, ::##15#17{Float64,Int64,Int64,Int64,Int64}, ::PyPlot.Figure) at /home/dong/.julia/v0.5/PyPlot/src/PyPlot.jl:565",
      " in withfig(::Function, ::PyPlot.Figure) at /home/dong/.julia/v0.5/PyPlot/src/PyPlot.jl:552",
      " in (::##14#16)(::Float64, ::Int64, ::Int64, ::Int64, ::Int64) at ./In[3]:26",
      " in (::Base.#kw##map)(::Array{Any,1}, ::Base.#map, ::Function, ::Reactive.Signal{Float64}, ::Reactive.Signal{Int64}, ::Vararg{Reactive.Signal{Int64},N}) at ./<missing>:0"
     ]
    }
   ],
   "source": [
    "#######################################################\n",
    "# COMBI REDUCER with Planetary & Harmonic Drive\n",
    "# V05\n",
    "# 2015.05.18\n",
    "# Dymaxion.kim\n",
    "#######################################################\n",
    " \n",
    "using PyPlot\n",
    "using Interact\n",
    " \n",
    "# Basic Parameter\n",
    "alpha=[0:0.02:2*pi]\n",
    "max_n_cs = 300\n",
    "max_dn_fs = 20\n",
    "max_dn_ig = 20\n",
    "max_dn_sg = max_n_cs - max_dn_fs - max_dn_ig\n",
    "# Making New Figure\n",
    "f=figure(figsize=(8,8))\n",
    "# Interact Macro\n",
    "@manipulate for m = 0.1:0.1:2, # Module of The Gear\n",
    "    n_cs = 50:1:max_n_cs, # Number of Teeth for Circular Spline\n",
    "    dn_fs = 1:1:max_dn_fs, # Different Number of Teeth for Flex Spline\n",
    "    dn_ig = 1:1:max_dn_ig, # Different Number of Teeth for Internal Gear\n",
    "    dn_sg = 1:1:max_dn_sg # Different Number of Teeth for Sun Gear\n",
    "    \n",
    "    withfig(f) do\n",
    "        grid(\"on\")\n",
    "        axis(\"auto\")\n",
    "        title(\"COMBI REDUCER v05\")\n",
    "        \n",
    "        # Draw Circular Spline\n",
    "        r_cs = m*n_cs/2\n",
    "        plot( r_cs*sin(alpha), r_cs*cos(alpha), linewidth=2, color=\"Magenta\" )\n",
    "        annotate([\"n_cs\",int(n_cs)],xy=(0,r_cs),ha=\"center\",va=\"bottom\", color=\"magenta\")\n",
    "        \n",
    "        # Draw Flex Spline in Idle Status\n",
    "        r_fs = m*(n_cs-dn_fs)/2\n",
    "        plot( r_fs*sin(alpha), r_fs*cos(alpha), linestyle=\"--\", color=\"cyan\" )\n",
    "\n",
    "        # Draw Internal Gear in Idle Status\n",
    "        r_ig = m*(n_cs-dn_fs-dn_ig)/2\n",
    "        plot( r_ig*sin(alpha), r_ig*cos(alpha), linestyle=\"--\", color=\"cyan\" )\n",
    "        \n",
    "        # Draw Sun Gear\n",
    "        r_sg = m*(n_cs-dn_fs-dn_ig-dn_sg)/2\n",
    "        n_sg = 2*r_sg/m\n",
    "        if r_sg > 0\n",
    "            plot( r_sg*sin(alpha), r_sg*cos(alpha), linewidth=2, color=\"blue\" )\n",
    "            annotate([\"n_sg\",int(n_sg)],xy=(0,0),ha=\"center\",va=\"center\", color=\"blue\")\n",
    "        else\n",
    "            plot( r_sg*sin(alpha), r_sg*cos(alpha), linewidth=4, linestyle=\"--\", color=\"red\" )\n",
    "            annotate([\"n_sg is in minus\",int(n_sg)],xy=(0,0),ha=\"center\",va=\"center\", color=\"red\")\n",
    "        end\n",
    "        \n",
    "        # Draw Planet Gears\n",
    "        t_fs = r_fs-r_ig # Thickness of Flex Spline's Plastic\n",
    "        r_pg = (r_cs-t_fs-r_sg)/2\n",
    "        plot( r_pg*sin(alpha), r_pg*cos(alpha)+(r_sg+r_pg), linewidth=2, color=\"magenta\" )\n",
    "        plot( r_pg*sin(alpha), r_pg*cos(alpha)-(r_sg+r_pg), linewidth=2, color=\"magenta\" )\n",
    "        n_pg = 2*r_pg/m\n",
    "        annotate([\"n_pg\",int(n_pg)],xy=(0,r_sg+r_pg),ha=\"center\",va=\"center\", color=\"magenta\")\n",
    "        annotate([\"Thickness\",t_fs],xy=(0,r_sg+2*r_pg),ha=\"center\",va=\"top\", color=\"blue\")\n",
    "        \n",
    "        # Draw Flex Spline in assembled\n",
    "        L_fs = 2*pi*r_fs\n",
    "        Dl_fs = 2*r_cs\n",
    "        Ds_fs = sqrt(-3*Dl_fs^2 + 4*L_fs*Dl_fs/pi)\n",
    "        plot( (Ds_fs/2)*sin(alpha), (Dl_fs/2)*cos(alpha), linewidth=2, color=\"blue\" )\n",
    "        n_fs = 2*r_fs/m\n",
    "        annotate([\"n_fs\",int(n_fs)],xy=(-0.9*r_fs,0),ha=\"left\",va=\"bottom\", color=\"blue\")\n",
    "\n",
    "        # Draw Internal Gear in assembled\n",
    "        L_ig = 2*pi*r_ig\n",
    "        Dl_ig = Dl_fs - 2*t_fs\n",
    "        #Ds_ig = sqrt(-3*Dl_ig^2 + 4*L_ig*Dl_ig/pi)\n",
    "        Ds_ig = Ds_fs - 2*t_fs\n",
    "        plot( (Ds_ig/2)*sin(alpha), (Dl_ig/2)*cos(alpha), linewidth=2, color=\"blue\" )\n",
    "        n_ig = 2*r_ig/m\n",
    "        annotate([\"n_ig\",int(n_ig)],xy=(-0.9*r_ig,0),ha=\"left\",va=\"top\",color=\"blue\")\n",
    "        \n",
    "        # Reduction Ratio\n",
    "        RRp = (n_sg+n_ig)/n_sg\n",
    "        RRh = n_fs/(n_fs-n_cs)\n",
    "        RRt = RRp * RRh\n",
    "        annotate([\"Total Reduction Ratio\",RRt],xy=(0,-r_cs),ha=\"center\",va=\"top\", color=\"black\")\n",
    "\n",
    "    end\n",
    "end\n"
   ]
  },
  {
   "cell_type": "code",
   "execution_count": 2,
   "metadata": {
    "collapsed": false
   },
   "outputs": [
    {
     "name": "stderr",
     "output_type": "stream",
     "text": [
      "INFO: Cloning cache of Interact from https://github.com/JuliaLang/Interact.jl.git\n",
      "INFO: Cloning cache of Reactive from https://github.com/JuliaLang/Reactive.jl.git\n",
      "INFO: Installing Interact v0.3.5\n",
      "INFO: Installing Reactive v0.3.6\n",
      "INFO: Building Interact\n",
      "INFO: Enabling widgetsnbextension\n",
      "Enabling notebook extension jupyter-js-widgets/extension...\n",
      "      - Validating: \u001b[32mOK\u001b[0m\n",
      "INFO: ipywidgets version found: 5.2.2\n",
      "INFO: A compatible version of ipywidgets was found. All good.\n",
      "INFO: Package database updated\n"
     ]
    }
   ],
   "source": [
    "Pkg.add(\"Interact\")"
   ]
  },
  {
   "cell_type": "code",
   "execution_count": null,
   "metadata": {
    "collapsed": true
   },
   "outputs": [],
   "source": []
  }
 ],
 "metadata": {
  "anaconda-cloud": {},
  "kernelspec": {
   "display_name": "Julia 0.5.0",
   "language": "julia",
   "name": "julia-0.5"
  },
  "language_info": {
   "file_extension": ".jl",
   "mimetype": "application/julia",
   "name": "julia",
   "version": "0.5.0"
  },
  "widgets": {
   "state": {
    "2b7af269-69b0-4a0e-9df8-a31e7f83eced": {
     "views": [
      {
       "cell_index": 0
      }
     ]
    },
    "3e73feaf-1441-42ae-a930-e9da8f8a8666": {
     "views": [
      {
       "cell_index": 0
      }
     ]
    },
    "7a6a0162-29a8-476c-ad1c-8cee3a6e98a3": {
     "views": [
      {
       "cell_index": 0
      }
     ]
    },
    "7f379631-7133-4ee2-bc72-83b11d3a30a3": {
     "views": [
      {
       "cell_index": 0
      }
     ]
    },
    "82fce302-25fd-408a-bf04-ce812ecc138e": {
     "views": [
      {
       "cell_index": 0
      }
     ]
    }
   },
   "version": "1.2.0"
  }
 },
 "nbformat": 4,
 "nbformat_minor": 0
}
