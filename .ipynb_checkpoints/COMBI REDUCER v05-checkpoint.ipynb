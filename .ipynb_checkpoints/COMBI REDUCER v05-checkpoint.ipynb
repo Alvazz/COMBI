{
 "cells": [
  {
   "cell_type": "code",
   "execution_count": 1,
   "metadata": {
    "collapsed": false
   },
   "outputs": [
    {
     "name": "stderr",
     "output_type": "stream",
     "text": [
      "INFO: Precompiling module PyPlot.\n"
     ]
    },
    {
     "ename": "LoadError",
     "evalue": "LoadError: ArgumentError: Module Interact not found in current path.\nRun `Pkg.add(\"Interact\")` to install the Interact package.\nwhile loading In[1], in expression starting on line 9",
     "output_type": "error",
     "traceback": [
      "LoadError: ArgumentError: Module Interact not found in current path.\nRun `Pkg.add(\"Interact\")` to install the Interact package.\nwhile loading In[1], in expression starting on line 9",
      "",
      " in require(::Symbol) at ./loading.jl:365"
     ]
    }
   ],
   "source": [
    "#######################################################\n",
    "# COMBI REDUCER with Planetary & Harmonic Drive\n",
    "# V05\n",
    "# 2015.05.18\n",
    "# Dymaxion.kim\n",
    "#######################################################\n",
    " \n",
    "using PyPlot\n",
    "using Interact\n",
    " \n",
    "# Basic Parameter\n",
    "alpha=[0:0.02:2*pi]\n",
    "max_n_cs = 300\n",
    "max_dn_fs = 20\n",
    "max_dn_ig = 20\n",
    "max_dn_sg = max_n_cs - max_dn_fs - max_dn_ig\n",
    "# Making New Figure\n",
    "f=figure(figsize=(8,8))\n",
    "# Interact Macro\n",
    "@manipulate for m = 0.1:0.1:2, # Module of The Gear\n",
    "    n_cs = 50:1:max_n_cs, # Number of Teeth for Circular Spline\n",
    "    dn_fs = 1:1:max_dn_fs, # Different Number of Teeth for Flex Spline\n",
    "    dn_ig = 1:1:max_dn_ig, # Different Number of Teeth for Internal Gear\n",
    "    dn_sg = 1:1:max_dn_sg # Different Number of Teeth for Sun Gear\n",
    "    \n",
    "    withfig(f) do\n",
    "        grid(\"on\")\n",
    "        axis(\"auto\")\n",
    "        title(\"COMBI REDUCER v05\")\n",
    "        \n",
    "        # Draw Circular Spline\n",
    "        r_cs = m*n_cs/2\n",
    "        plot( r_cs*sin(alpha), r_cs*cos(alpha), linewidth=2, color=\"Magenta\" )\n",
    "        annotate([\"n_cs\",int(n_cs)],xy=(0,r_cs),ha=\"center\",va=\"bottom\", color=\"magenta\")\n",
    "        \n",
    "        # Draw Flex Spline in Idle Status\n",
    "        r_fs = m*(n_cs-dn_fs)/2\n",
    "        plot( r_fs*sin(alpha), r_fs*cos(alpha), linestyle=\"--\", color=\"cyan\" )\n",
    "\n",
    "        # Draw Internal Gear in Idle Status\n",
    "        r_ig = m*(n_cs-dn_fs-dn_ig)/2\n",
    "        plot( r_ig*sin(alpha), r_ig*cos(alpha), linestyle=\"--\", color=\"cyan\" )\n",
    "        \n",
    "        # Draw Sun Gear\n",
    "        r_sg = m*(n_cs-dn_fs-dn_ig-dn_sg)/2\n",
    "        n_sg = 2*r_sg/m\n",
    "        if r_sg > 0\n",
    "            plot( r_sg*sin(alpha), r_sg*cos(alpha), linewidth=2, color=\"blue\" )\n",
    "            annotate([\"n_sg\",int(n_sg)],xy=(0,0),ha=\"center\",va=\"center\", color=\"blue\")\n",
    "        else\n",
    "            plot( r_sg*sin(alpha), r_sg*cos(alpha), linewidth=4, linestyle=\"--\", color=\"red\" )\n",
    "            annotate([\"n_sg is in minus\",int(n_sg)],xy=(0,0),ha=\"center\",va=\"center\", color=\"red\")\n",
    "        end\n",
    "        \n",
    "        # Draw Planet Gears\n",
    "        t_fs = r_fs-r_ig # Thickness of Flex Spline's Plastic\n",
    "        r_pg = (r_cs-t_fs-r_sg)/2\n",
    "        plot( r_pg*sin(alpha), r_pg*cos(alpha)+(r_sg+r_pg), linewidth=2, color=\"magenta\" )\n",
    "        plot( r_pg*sin(alpha), r_pg*cos(alpha)-(r_sg+r_pg), linewidth=2, color=\"magenta\" )\n",
    "        n_pg = 2*r_pg/m\n",
    "        annotate([\"n_pg\",int(n_pg)],xy=(0,r_sg+r_pg),ha=\"center\",va=\"center\", color=\"magenta\")\n",
    "        annotate([\"Thickness\",t_fs],xy=(0,r_sg+2*r_pg),ha=\"center\",va=\"top\", color=\"blue\")\n",
    "        \n",
    "        # Draw Flex Spline in assembled\n",
    "        L_fs = 2*pi*r_fs\n",
    "        Dl_fs = 2*r_cs\n",
    "        Ds_fs = sqrt(-3*Dl_fs^2 + 4*L_fs*Dl_fs/pi)\n",
    "        plot( (Ds_fs/2)*sin(alpha), (Dl_fs/2)*cos(alpha), linewidth=2, color=\"blue\" )\n",
    "        n_fs = 2*r_fs/m\n",
    "        annotate([\"n_fs\",int(n_fs)],xy=(-0.9*r_fs,0),ha=\"left\",va=\"bottom\", color=\"blue\")\n",
    "\n",
    "        # Draw Internal Gear in assembled\n",
    "        L_ig = 2*pi*r_ig\n",
    "        Dl_ig = Dl_fs - 2*t_fs\n",
    "        #Ds_ig = sqrt(-3*Dl_ig^2 + 4*L_ig*Dl_ig/pi)\n",
    "        Ds_ig = Ds_fs - 2*t_fs\n",
    "        plot( (Ds_ig/2)*sin(alpha), (Dl_ig/2)*cos(alpha), linewidth=2, color=\"blue\" )\n",
    "        n_ig = 2*r_ig/m\n",
    "        annotate([\"n_ig\",int(n_ig)],xy=(-0.9*r_ig,0),ha=\"left\",va=\"top\",color=\"blue\")\n",
    "        \n",
    "        # Reduction Ratio\n",
    "        RRp = (n_sg+n_ig)/n_sg\n",
    "        RRh = n_fs/(n_fs-n_cs)\n",
    "        RRt = RRp * RRh\n",
    "        annotate([\"Total Reduction Ratio\",RRt],xy=(0,-r_cs),ha=\"center\",va=\"top\", color=\"black\")\n",
    "\n",
    "    end\n",
    "end\n"
   ]
  },
  {
   "cell_type": "code",
   "execution_count": 2,
   "metadata": {
    "collapsed": false
   },
   "outputs": [
    {
     "name": "stderr",
     "output_type": "stream",
     "text": [
      "INFO: Cloning cache of Interact from https://github.com/JuliaLang/Interact.jl.git\n",
      "INFO: Cloning cache of Reactive from https://github.com/JuliaLang/Reactive.jl.git\n",
      "INFO: Installing Interact v0.3.5\n",
      "INFO: Installing Reactive v0.3.6\n",
      "INFO: Building Interact\n",
      "INFO: Enabling widgetsnbextension\n",
      "Enabling notebook extension jupyter-js-widgets/extension...\n",
      "      - Validating: \u001b[32mOK\u001b[0m\n",
      "INFO: ipywidgets version found: 5.2.2\n",
      "INFO: A compatible version of ipywidgets was found. All good.\n",
      "INFO: Package database updated\n"
     ]
    }
   ],
   "source": [
    "Pkg.add(\"Interact\")"
   ]
  },
  {
   "cell_type": "code",
   "execution_count": null,
   "metadata": {
    "collapsed": true
   },
   "outputs": [],
   "source": []
  }
 ],
 "metadata": {
  "anaconda-cloud": {},
  "kernelspec": {
   "display_name": "Julia 0.5.0",
   "language": "julia",
   "name": "julia-0.5"
  },
  "language_info": {
   "file_extension": ".jl",
   "mimetype": "application/julia",
   "name": "julia",
   "version": "0.5.0"
  }
 },
 "nbformat": 4,
 "nbformat_minor": 0
}
